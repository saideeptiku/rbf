{
 "cells": [
  {
   "cell_type": "code",
   "execution_count": 5,
   "metadata": {},
   "outputs": [],
   "source": [
    "# import modules\n",
    "import pandas as pd"
   ]
  },
  {
   "cell_type": "code",
   "execution_count": 6,
   "metadata": {
    "collapsed": true
   },
   "outputs": [],
   "source": [
    "# read data training\n",
    "training_df = pd.read_csv(\"RBF/data/bcinfill-s6-run1.csv\")\n",
    "\n",
    "# read validation training\n",
    "validation_df = pd.read_csv(\"RBF/data/bcinfill-s6-run2.csv\")"
   ]
  },
  {
   "cell_type": "code",
   "execution_count": null,
   "metadata": {},
   "outputs": [],
   "source": [
    "# data needs to preprocessed for RBF algorithm\n",
    "# For RBF apply labels to locations\n"
   ]
  },
  {
   "cell_type": "code",
   "execution_count": 7,
   "metadata": {
    "collapsed": true
   },
   "outputs": [],
   "source": [
    "def remove_columns(df, col_list):\n",
    "    return df.drop(col_list, axis=1)"
   ]
  },
  {
   "cell_type": "code",
   "execution_count": 8,
   "metadata": {
    "collapsed": true
   },
   "outputs": [],
   "source": [
    "def select_data_filter(df, filter_dict):\n",
    "    \"\"\"\n",
    "    select data with filters\n",
    "    \n",
    "    df: pandas data frame\n",
    "    \n",
    "    filter_dict: dictionary\n",
    "    keys are column names\n",
    "    values are filter value\n",
    "    \"\"\"\n",
    "    df_part = df.copy()\n",
    "    for key in filter_dict.keys():\n",
    "        # filter out rows one by one\n",
    "        df_part =  df_part.loc[(df_part[ key ] == filter_dict[key])]\n",
    "        \n",
    "    return df_part"
   ]
  },
  {
   "cell_type": "code",
   "execution_count": 9,
   "metadata": {
    "collapsed": true
   },
   "outputs": [],
   "source": [
    "def get_intersection_on(df_x, df_y ,on_col_labels_list,):\n",
    "    \"\"\"\n",
    "    take intersection of two\n",
    "    with labels in list\n",
    "    most usefull in getting common data points from two dataframes\n",
    "    used for getting wifi data for common points\n",
    "    \"\"\"\n",
    "    \n",
    "    return pd.merge(df_x, df_y, how='inner', on=on_col_labels_list)"
   ]
  },
  {
   "cell_type": "code",
   "execution_count": 17,
   "metadata": {
    "collapsed": false
   },
   "outputs": [
    {
     "name": "stdout",
     "output_type": "stream",
     "text": [
      "number of columns total: 59\ninput cols: Index(['29', '10', '48', '18', '6', '8', '50', '45', '9', '22', '13', '35',\n       '21', '53', '33', '36', '38', '54', '44', '47', '52', '20', '40', '28',\n       '49', '42', '3', '7', '37', '4', '14', '39', '2', '17', '27', '12',\n       '41', '1', '11', '43', '26', '5', '15', '46', '30', '31', '0', '23',\n       '34', '19', '16', '51', '25', '32', '24'],\n      dtype='object')\ninput col length: 55\noutput cols: Index(['x', 'y'], dtype='object')\noutput col length: 2\n"
     ]
    }
   ],
   "source": [
    "# make input feature columns list\n",
    "input_cols = training_df.columns[1:-3]\n",
    "\n",
    "# make output feature column list\n",
    "output_cols = training_df.columns[-3: -1]\n",
    "\n",
    "print(\"number of columns total:\", len(training_df.columns))\n",
    "\n",
    "print(\"input cols:\", input_cols)\n",
    "print(\"input col length:\", len(input_cols))\n",
    "\n",
    "print(\"output cols:\", output_cols)\n",
    "print(\"output col length:\", len(output_cols))"
   ]
  },
  {
   "cell_type": "code",
   "execution_count": 67,
   "metadata": {},
   "outputs": [],
   "source": [
    "# call RBF and pass offline data\n",
    "from RBF import RBF\n",
    "rbf = RBF(training_df, input_cols, output_cols, missing_val_marker=100)"
   ]
  },
  {
   "cell_type": "code",
   "execution_count": 68,
   "metadata": {
    "collapsed": true
   },
   "outputs": [
    {
     "name": "stdout",
     "output_type": "stream",
     "text": [
      "       WAP001  WAP002  WAP003  WAP004  WAP005  WAP006  WAP007  WAP008  WAP009  \\\n",
      "4         NaN     NaN     NaN     NaN     NaN     NaN     NaN     NaN     NaN   \n",
      "7119      NaN     NaN     NaN     NaN     NaN     NaN     NaN     NaN     NaN   \n",
      "7120      NaN     NaN     NaN     NaN     NaN     NaN     NaN     NaN     NaN   \n",
      "7121      NaN     NaN     NaN     NaN     NaN     NaN     NaN     NaN     NaN   \n",
      "7122      NaN     NaN     NaN     NaN     NaN     NaN     NaN     NaN     NaN   \n",
      "7123      NaN     NaN     NaN     NaN     NaN     NaN     NaN     NaN     NaN   \n",
      "7124      NaN     NaN     NaN     NaN     NaN     NaN     NaN     NaN     NaN   \n",
      "7125      NaN     NaN     NaN     NaN     NaN     NaN     NaN     NaN     NaN   \n",
      "7126      NaN     NaN     NaN     NaN     NaN     NaN     NaN     NaN     NaN   \n",
      "7127      NaN     NaN     NaN     NaN     NaN     NaN     NaN     NaN     NaN   \n",
      "7128      NaN     NaN     NaN     NaN     NaN     NaN     NaN     NaN     NaN   \n",
      "7129      NaN     NaN     NaN     NaN     NaN     NaN     NaN     NaN     NaN   \n",
      "7130      NaN     NaN     NaN     NaN     NaN     NaN     NaN     NaN     NaN   \n",
      "7131      NaN     NaN     NaN     NaN     NaN     NaN     NaN     1.0     NaN   \n",
      "7132      NaN     NaN     NaN     NaN     NaN     NaN     NaN     NaN     NaN   \n",
      "7133      NaN     NaN     NaN     NaN     NaN     NaN     NaN     NaN     NaN   \n",
      "7134      NaN     NaN     NaN     NaN     NaN     NaN     NaN     NaN     NaN   \n",
      "7135      NaN     NaN     NaN     NaN     NaN     NaN     NaN     NaN     NaN   \n",
      "7136      NaN     NaN     NaN     NaN     NaN     NaN     NaN     NaN     NaN   \n",
      "7137      NaN     NaN     NaN     NaN     NaN     NaN     NaN     NaN     NaN   \n",
      "7138      NaN     NaN     NaN     NaN     NaN     NaN     NaN     NaN     NaN   \n",
      "7139      NaN     NaN     NaN     NaN     NaN     NaN     NaN     NaN     NaN   \n",
      "7140      NaN     NaN     NaN     NaN     NaN     NaN     NaN     NaN     NaN   \n",
      "7141      NaN     NaN     NaN     NaN     NaN     NaN     NaN     NaN     NaN   \n",
      "7142      NaN     NaN     NaN     NaN     NaN     NaN     NaN     NaN     NaN   \n",
      "7143      NaN     NaN     NaN     NaN     NaN     NaN     NaN     NaN     NaN   \n",
      "7144      NaN     NaN     NaN     NaN     NaN     NaN     NaN     NaN     NaN   \n",
      "7145      NaN     NaN     NaN     NaN     NaN     NaN     NaN     NaN     NaN   \n",
      "7146      NaN     NaN     NaN     NaN     NaN     NaN     6.0     NaN     NaN   \n",
      "7147      NaN     NaN     NaN     NaN     NaN     NaN     NaN     NaN     NaN   \n",
      "...       ...     ...     ...     ...     ...     ...     ...     ...     ...   \n",
      "11199     NaN     NaN     NaN     NaN     NaN     NaN     NaN     NaN     NaN   \n",
      "11200     NaN     NaN     NaN     NaN     NaN     NaN     NaN     NaN     NaN   \n",
      "11201     NaN     NaN     NaN     NaN     NaN     NaN     NaN     NaN     NaN   \n",
      "11202     NaN     NaN     NaN     NaN     NaN     NaN     2.0     NaN     NaN   \n",
      "11203     NaN     NaN     NaN     NaN     NaN     NaN     NaN     NaN     NaN   \n",
      "11204     NaN     NaN     NaN     NaN     NaN     NaN     NaN     NaN     NaN   \n",
      "11205     NaN     NaN     NaN     NaN     NaN     NaN     6.0     NaN     NaN   \n",
      "11206     NaN     NaN     NaN     NaN     NaN     NaN     8.0     NaN     NaN   \n",
      "11207     NaN     NaN     NaN     NaN     NaN     NaN     5.0     NaN     NaN   \n",
      "11208     NaN     NaN     NaN     NaN     NaN     NaN     7.0     NaN     NaN   \n",
      "11209     NaN     NaN     NaN     NaN     NaN     NaN     4.0     NaN     NaN   \n",
      "11210     NaN     NaN     NaN     NaN     NaN     NaN     7.0     NaN     NaN   \n",
      "11211     NaN     NaN     NaN     NaN     NaN     NaN     7.0     NaN     NaN   \n",
      "11212     NaN     NaN     NaN     NaN     NaN     NaN     4.0     NaN     NaN   \n",
      "11213     NaN     NaN     NaN     NaN     NaN     NaN     9.0     NaN     NaN   \n",
      "11214     NaN     NaN     NaN     NaN     NaN     NaN     7.0     NaN     NaN   \n",
      "11215     NaN     NaN     NaN     NaN     NaN     NaN     9.0     NaN     NaN   \n",
      "11216     NaN     NaN     NaN     NaN     NaN     NaN     6.0     NaN     NaN   \n",
      "11217     NaN     NaN     NaN     NaN     NaN     NaN     4.0     NaN     NaN   \n",
      "11218     NaN     NaN     NaN     NaN     NaN     NaN     9.0     NaN     NaN   \n",
      "11219     NaN     NaN     NaN     NaN     NaN     NaN    10.0     NaN     NaN   \n",
      "11220     NaN     NaN     NaN     NaN     NaN     NaN     8.0     NaN     NaN   \n",
      "11221     NaN     NaN     NaN     NaN     NaN     NaN    11.0     NaN     NaN   \n",
      "11222     NaN     NaN     NaN     NaN     NaN     NaN    10.0     NaN     NaN   \n",
      "11223     NaN     NaN     NaN     NaN     NaN     NaN     9.0     NaN     NaN   \n",
      "11224     NaN     NaN     NaN     NaN     NaN     NaN    11.0     NaN     NaN   \n",
      "11225     NaN     NaN     NaN     NaN     NaN     NaN    14.0     NaN     NaN   \n",
      "11226     NaN     NaN     NaN     NaN     NaN     NaN     9.0     NaN     NaN   \n",
      "11228     NaN     NaN     NaN     NaN     NaN     NaN    10.0     NaN     NaN   \n",
      "11229     NaN     NaN     NaN     NaN     NaN     NaN     8.0     NaN     NaN   \n",
      "\n",
      "       WAP010      ...       WAP513  WAP514  WAP515  WAP516  WAP517  WAP518  \\\n",
      "4         NaN      ...          NaN     NaN     NaN     NaN     NaN     NaN   \n",
      "7119      NaN      ...          NaN     NaN     NaN     NaN     NaN     NaN   \n",
      "7120      NaN      ...          NaN     NaN     NaN     NaN     NaN     NaN   \n",
      "7121      NaN      ...          NaN     NaN     NaN     NaN     NaN     NaN   \n",
      "7122      NaN      ...          NaN     NaN     NaN     NaN     NaN     NaN   \n",
      "7123      NaN      ...          NaN     NaN     NaN     NaN     NaN     NaN   \n",
      "7124      NaN      ...          NaN     NaN     NaN     NaN     NaN     NaN   \n",
      "7125      NaN      ...          NaN     NaN     NaN     NaN     NaN     NaN   \n",
      "7126      NaN      ...          NaN     NaN     NaN     NaN     NaN     NaN   \n",
      "7127      NaN      ...          NaN     NaN     NaN     NaN     NaN     NaN   \n",
      "7128      NaN      ...          NaN     NaN     NaN     NaN     NaN     NaN   \n",
      "7129      NaN      ...          NaN     NaN     NaN     NaN     NaN     NaN   \n",
      "7130      NaN      ...          NaN     NaN     NaN     NaN     NaN     NaN   \n",
      "7131      NaN      ...          NaN     NaN     NaN     NaN     NaN     NaN   \n",
      "7132      NaN      ...          NaN     NaN     NaN     NaN     NaN     NaN   \n",
      "7133      NaN      ...          NaN     NaN     NaN     NaN     NaN     NaN   \n",
      "7134      NaN      ...          NaN     NaN     NaN     NaN     NaN     NaN   \n",
      "7135      NaN      ...          NaN     NaN     NaN     NaN     NaN     NaN   \n",
      "7136      NaN      ...          NaN     NaN     NaN     NaN     NaN     NaN   \n",
      "7137      NaN      ...          NaN     NaN     NaN     NaN     NaN     NaN   \n",
      "7138      NaN      ...          NaN     NaN     NaN     NaN     NaN     NaN   \n",
      "7139      NaN      ...          NaN     NaN     NaN     NaN     NaN     NaN   \n",
      "7140      NaN      ...          NaN     NaN     NaN     NaN     NaN     NaN   \n",
      "7141      NaN      ...          NaN     NaN     NaN     NaN     NaN     NaN   \n",
      "7142      NaN      ...          NaN     NaN     NaN     NaN     NaN     NaN   \n",
      "7143      NaN      ...          NaN     NaN     NaN     NaN     NaN     NaN   \n",
      "7144      NaN      ...          NaN     NaN     NaN     NaN     NaN     NaN   \n",
      "7145      NaN      ...          NaN     NaN     NaN     NaN     NaN     NaN   \n",
      "7146      NaN      ...          NaN     NaN     NaN     NaN     NaN     NaN   \n",
      "7147      NaN      ...          NaN     NaN     NaN     NaN     NaN     NaN   \n",
      "...       ...      ...          ...     ...     ...     ...     ...     ...   \n",
      "11199     NaN      ...          NaN     NaN     NaN     NaN     NaN     NaN   \n",
      "11200     NaN      ...          NaN     NaN     NaN     NaN     NaN     NaN   \n",
      "11201     NaN      ...          NaN     NaN     NaN     NaN     NaN     NaN   \n",
      "11202     NaN      ...          NaN     NaN     NaN     NaN     NaN     NaN   \n",
      "11203     NaN      ...          NaN     NaN     NaN     NaN     NaN     NaN   \n",
      "11204     NaN      ...          NaN     NaN     NaN     NaN     NaN     NaN   \n",
      "11205     NaN      ...          NaN     NaN     NaN     NaN     NaN     NaN   \n",
      "11206     NaN      ...          NaN     NaN     NaN     NaN     NaN     NaN   \n",
      "11207     NaN      ...          NaN     NaN     NaN     NaN     NaN     NaN   \n",
      "11208     NaN      ...          NaN     NaN     NaN     NaN     NaN     NaN   \n",
      "11209     NaN      ...          NaN     NaN     NaN     NaN     NaN     NaN   \n",
      "11210     NaN      ...          NaN     NaN     NaN     NaN     NaN     NaN   \n",
      "11211     NaN      ...          NaN     NaN     NaN     NaN     NaN     NaN   \n",
      "11212     NaN      ...          NaN     NaN     NaN     NaN     NaN     NaN   \n",
      "11213     NaN      ...          NaN     NaN     NaN     NaN     NaN     NaN   \n",
      "11214     NaN      ...          NaN     NaN     NaN     NaN     NaN     NaN   \n",
      "11215     NaN      ...          NaN     NaN     NaN     NaN     NaN     NaN   \n",
      "11216     NaN      ...          NaN     NaN     NaN     NaN     NaN     NaN   \n",
      "11217     NaN      ...          NaN     NaN     NaN     NaN     NaN     NaN   \n",
      "11218     NaN      ...          NaN     NaN     NaN     NaN     NaN     NaN   \n",
      "11219     NaN      ...          NaN     NaN     NaN     NaN     NaN     NaN   \n",
      "11220     NaN      ...          NaN     NaN     NaN     NaN     NaN     NaN   \n",
      "11221     NaN      ...          NaN     NaN     NaN     NaN     NaN     NaN   \n",
      "11222     NaN      ...          NaN     NaN     NaN     NaN     NaN     NaN   \n",
      "11223     NaN      ...          NaN     NaN     NaN     NaN     NaN     NaN   \n",
      "11224     NaN      ...          NaN     NaN     NaN     NaN     NaN     NaN   \n",
      "11225     NaN      ...          NaN     NaN     NaN     NaN     NaN     NaN   \n",
      "11226     NaN      ...          NaN     NaN     NaN     NaN     NaN     NaN   \n",
      "11228     NaN      ...          NaN     NaN     NaN     NaN     NaN     NaN   \n",
      "11229     NaN      ...          NaN     NaN     NaN     NaN     NaN     NaN   \n",
      "\n",
      "       WAP519  WAP520  LONGITUDE      LATITUDE  \n",
      "4         NaN     NaN -7632.1436  4.864982e+06  \n",
      "7119      NaN     NaN -7637.2570  4.864950e+06  \n",
      "7120      NaN     NaN -7628.1345  4.864977e+06  \n",
      "7121      NaN     NaN -7622.0546  4.864976e+06  \n",
      "7122      NaN     NaN -7636.2057  4.864967e+06  \n",
      "7123      NaN     NaN -7633.7295  4.864965e+06  \n",
      "7124      NaN     NaN -7605.4193  4.864979e+06  \n",
      "7125      NaN     NaN -7607.2476  4.864979e+06  \n",
      "7126      NaN     NaN -7616.5560  4.864976e+06  \n",
      "7127      NaN     NaN -7618.5869  4.864975e+06  \n",
      "7128      NaN     NaN -7592.7333  4.864983e+06  \n",
      "7129      NaN     NaN -7611.0565  4.864982e+06  \n",
      "7130      NaN     NaN -7592.7186  4.864984e+06  \n",
      "7131      NaN     NaN -7587.0414  4.864986e+06  \n",
      "7132      NaN     NaN -7589.0015  4.864985e+06  \n",
      "7133      NaN     NaN -7615.5277  4.864982e+06  \n",
      "7134      NaN     NaN -7632.1436  4.864982e+06  \n",
      "7135      NaN     NaN -7634.5004  4.864984e+06  \n",
      "7136      NaN     NaN -7636.6330  4.864992e+06  \n",
      "7137      NaN     NaN -7637.2257  4.864994e+06  \n",
      "7138      NaN     NaN -7641.0301  4.865007e+06  \n",
      "7139      NaN     NaN -7638.8432  4.864999e+06  \n",
      "7140      NaN     NaN -7639.4172  4.865001e+06  \n",
      "7141      NaN     NaN -7638.0677  4.865001e+06  \n",
      "7142      NaN     NaN -7639.0778  4.865012e+06  \n",
      "7143      NaN     NaN -7641.6246  4.865009e+06  \n",
      "7144      NaN     NaN -7632.2388  4.864988e+06  \n",
      "7145      NaN     NaN -7640.9762  4.865011e+06  \n",
      "7146      NaN     NaN -7650.1656  4.864937e+06  \n",
      "7147      NaN     NaN -7645.0887  4.864949e+06  \n",
      "...       ...     ...        ...           ...  \n",
      "11199     NaN     NaN -7641.0301  4.865007e+06  \n",
      "11200     NaN     NaN -7640.9762  4.865011e+06  \n",
      "11201     NaN     NaN -7638.0677  4.865001e+06  \n",
      "11202     NaN     NaN -7645.0887  4.864949e+06  \n",
      "11203     NaN     NaN -7632.2388  4.864988e+06  \n",
      "11204     NaN     NaN -7643.2015  4.864948e+06  \n",
      "11205     NaN     NaN -7650.1656  4.864937e+06  \n",
      "11206     NaN     NaN -7661.7359  4.864938e+06  \n",
      "11207     NaN     NaN -7667.3398  4.864937e+06  \n",
      "11208     NaN     NaN -7656.6357  4.864938e+06  \n",
      "11209     NaN     NaN -7676.6271  4.864934e+06  \n",
      "11210     NaN     NaN -7674.9559  4.864935e+06  \n",
      "11211     NaN     NaN -7669.2335  4.864936e+06  \n",
      "11212     NaN     NaN -7682.5438  4.864932e+06  \n",
      "11213     NaN     NaN -7680.1346  4.864931e+06  \n",
      "11214     NaN     NaN -7675.3525  4.864933e+06  \n",
      "11215     NaN     NaN -7661.8969  4.864935e+06  \n",
      "11216     NaN     NaN -7684.2824  4.864932e+06  \n",
      "11217     NaN     NaN -7685.7235  4.864930e+06  \n",
      "11218     NaN     NaN -7646.3393  4.864932e+06  \n",
      "11219     NaN     NaN -7643.9938  4.864930e+06  \n",
      "11220     NaN     NaN -7643.3851  4.864928e+06  \n",
      "11221     NaN     NaN -7646.2446  4.864926e+06  \n",
      "11222     NaN     NaN -7640.7040  4.864914e+06  \n",
      "11223     NaN     NaN -7641.2858  4.864921e+06  \n",
      "11224     NaN     NaN -7639.1362  4.864913e+06  \n",
      "11225     NaN     NaN -7641.7719  4.864922e+06  \n",
      "11226     NaN     NaN -7639.6495  4.864915e+06  \n",
      "11228     NaN     NaN -7636.9602  4.864906e+06  \n",
      "11229     NaN     NaN -7637.7289  4.864903e+06  \n",
      "\n",
      "[531 rows x 522 columns]\n"
     ]
    }
   ],
   "source": [
    "rbf.test()"
   ]
  },
  {
   "cell_type": "code",
   "execution_count": null,
   "metadata": {
    "collapsed": true
   },
   "outputs": [],
   "source": [
    ""
   ]
  },
  {
   "cell_type": "code",
   "execution_count": null,
   "metadata": {
    "collapsed": true
   },
   "outputs": [],
   "source": [
    ""
   ]
  },
  {
   "cell_type": "code",
   "execution_count": null,
   "metadata": {
    "collapsed": true
   },
   "outputs": [],
   "source": [
    ""
   ]
  }
 ],
 "metadata": {
  "kernelspec": {
   "display_name": "Python 3",
   "language": "python",
   "name": "python3"
  },
  "language_info": {
   "codemirror_mode": {
    "name": "ipython",
    "version": 3.0
   },
   "file_extension": ".py",
   "mimetype": "text/x-python",
   "name": "python",
   "nbconvert_exporter": "python",
   "pygments_lexer": "ipython3",
   "version": "3.5.2"
  }
 },
 "nbformat": 4,
 "nbformat_minor": 0
}